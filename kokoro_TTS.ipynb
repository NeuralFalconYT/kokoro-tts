{
  "nbformat": 4,
  "nbformat_minor": 0,
  "metadata": {
    "colab": {
      "provenance": [],
      "gpuType": "T4"
    },
    "kernelspec": {
      "name": "python3",
      "display_name": "Python 3"
    },
    "language_info": {
      "name": "python"
    },
    "accelerator": "GPU"
  },
  "cells": [
    {
      "cell_type": "code",
      "execution_count": 1,
      "metadata": {
        "id": "aDMNKlj71KdW"
      },
      "outputs": [],
      "source": [
        "%cd /content/\n",
        "!git lfs install\n",
        "!git clone https://huggingface.co/hexgrad/Kokoro-82M\n",
        "!git clone https://github.com/NeuralFalconYT/kokoro-tts.git\n",
        "!rsync -av --ignore-existing /content/kokoro-tts/ /content/Kokoro-82M/\n",
        "%cd /content/Kokoro-82M\n",
        "!rm -rf kokoro_copy.py\n",
        "!mv kokoro_colab.py kokoro_copy.py\n",
        "!apt-get -qq -y install espeak-ng > /dev/null 2>&1\n",
        "!pip install -r requirements.txt\n",
        "from IPython.display import clear_output\n",
        "clear_output()"
      ]
    },
    {
      "cell_type": "code",
      "source": [
        "%cd /content/Kokoro-82M\n",
        "!python app.py --debug --share"
      ],
      "metadata": {
        "id": "ZedsvZdE1qRQ"
      },
      "execution_count": null,
      "outputs": []
    }
  ]
}